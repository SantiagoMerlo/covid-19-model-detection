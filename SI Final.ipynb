{
 "cells": [
  {
   "cell_type": "markdown",
   "id": "4234471f",
   "metadata": {},
   "source": [
    "# SI"
   ]
  },
  {
   "cell_type": "code",
   "execution_count": 1,
   "id": "4c9f4de7",
   "metadata": {},
   "outputs": [],
   "source": [
    "import pandas as pd\n",
    "import matplotlib.pyplot as plt\n",
    "from tqdm import tqdm\n",
    "import numpy as np\n",
    "import seaborn as sns\n",
    "from matplotlib import style\n",
    "import warnings\n",
    "import splitfolders \n",
    "from pathlib import Path\n",
    "\n",
    "\n",
    "from PIL import Image, ImageFont, ImageDraw \n",
    "\n",
    "import tensorflow as tf\n",
    "from tensorflow import keras\n",
    "from tensorflow.keras.utils import to_categorical\n",
    "\n",
    "from sklearn.model_selection import train_test_split\n",
    "from sklearn.preprocessing import LabelEncoder\n",
    "\n",
    "import os\n",
    "import cv2"
   ]
  },
  {
   "cell_type": "markdown",
   "id": "38ef0f31",
   "metadata": {},
   "source": [
    "### Global Settings"
   ]
  },
  {
   "cell_type": "code",
   "execution_count": 2,
   "id": "e3546fd1",
   "metadata": {},
   "outputs": [],
   "source": [
    "warnings.filterwarnings(\"ignore\", category=DeprecationWarning)\n",
    "warnings.simplefilter(\"ignore\")\n",
    "style.use(\"ggplot\")\n",
    "SEED = 42\n",
    "TEST_SIZE = 0.2\n",
    "BATCH_SIZE = 500\n",
    "np.random.seed(seed=SEED)"
   ]
  },
  {
   "cell_type": "markdown",
   "id": "f95ad732",
   "metadata": {},
   "source": [
    "## Entendimiento"
   ]
  },
  {
   "cell_type": "code",
   "execution_count": 3,
   "id": "902b2c08",
   "metadata": {},
   "outputs": [],
   "source": [
    "df = pd.read_csv(\"./dataset.csv\")"
   ]
  },
  {
   "cell_type": "markdown",
   "id": "ad3c2324",
   "metadata": {},
   "source": [
    "### Preprocesamiento de datos"
   ]
  },
  {
   "cell_type": "code",
   "execution_count": 45,
   "id": "0d9cd185",
   "metadata": {},
   "outputs": [
    {
     "name": "stderr",
     "output_type": "stream",
     "text": [
      "Copying files: 15275 files [01:49, 138.89 files/s]\n"
     ]
    }
   ],
   "source": [
    "splitfolders.ratio('./data', output=\"./out\", seed=SEED, ratio=(0.6, 0.2,0.2))"
   ]
  },
  {
   "cell_type": "markdown",
   "id": "f1b3baf7",
   "metadata": {},
   "source": [
    "### Desarrollando el modelo"
   ]
  },
  {
   "cell_type": "code",
   "execution_count": 3,
   "id": "1f6ed3d7",
   "metadata": {},
   "outputs": [],
   "source": [
    "from tensorflow.keras.models import Sequential, Model\n",
    "from tensorflow.keras.layers import Conv2D, MaxPool2D, InputLayer, MaxPooling2D\n",
    "from tensorflow.keras.layers import Activation, Dropout, BatchNormalization, Flatten, Dense, Reshape\n",
    "from tensorflow.keras.preprocessing.image import ImageDataGenerator\n",
    "from tensorflow.keras.models import load_model\n",
    "from tensorflow.keras.optimizers import Adam"
   ]
  },
  {
   "cell_type": "code",
   "execution_count": 4,
   "id": "fcbf40f7",
   "metadata": {},
   "outputs": [
    {
     "name": "stdout",
     "output_type": "stream",
     "text": [
      "Found 9164 images belonging to 3 classes.\n",
      "Found 3057 images belonging to 3 classes.\n",
      "Found 3054 images belonging to 3 classes.\n"
     ]
    }
   ],
   "source": [
    "train_path = \"./out/train\"\n",
    "test_path = \"./out/test\"\n",
    "valid_path = \"./out/val\"\n",
    "\n",
    "train_batches = ImageDataGenerator( \n",
    "    rescale=1. / 255,\n",
    "    shear_range=0.2,\n",
    "    zoom_range=0.2,\n",
    "    width_shift_range=0.1,\n",
    "    height_shift_range=0.1,\n",
    "    brightness_range=[0.2,1.0],\n",
    "    horizontal_flip=True\n",
    "    ).flow_from_directory(\n",
    "        directory=train_path, \n",
    "        target_size=(224,224),\n",
    "        batch_size=20)\n",
    "\n",
    "test_batches = ImageDataGenerator( rescale=1./255 ).flow_from_directory(\n",
    "    directory=test_path, \n",
    "    target_size=(224,224),\n",
    "    batch_size=20)\n",
    "\n",
    "valid_batches = ImageDataGenerator( rescale=1./255 ).flow_from_directory(\n",
    "    directory=valid_path, \n",
    "    target_size=(224,224), \n",
    "    batch_size=20)"
   ]
  },
  {
   "cell_type": "code",
   "execution_count": 5,
   "id": "b285d12d",
   "metadata": {},
   "outputs": [],
   "source": [
    "base_model = keras.applications.InceptionResNetV2(\n",
    "    include_top = False,\n",
    "    weights = 'imagenet',\n",
    "    input_shape = (224,224,3),\n",
    "    classifier_activation = 'sigmoid')"
   ]
  },
  {
   "cell_type": "code",
   "execution_count": 6,
   "id": "61972406",
   "metadata": {},
   "outputs": [],
   "source": [
    "#base_model = tf.keras.applications.MobileNetV2(\n",
    "#    include_top = False,\n",
    "#    weights = 'imagenet',\n",
    "#    input_shape = (224,224,3),\n",
    "#    classifier_activation = 'sigmoid')"
   ]
  },
  {
   "cell_type": "code",
   "execution_count": 7,
   "id": "521f7538",
   "metadata": {},
   "outputs": [],
   "source": [
    "# base_model.trainable = False"
   ]
  },
  {
   "cell_type": "code",
   "execution_count": 8,
   "id": "6c83658b",
   "metadata": {},
   "outputs": [
    {
     "data": {
      "text/plain": [
       "{0: 13.45668135095448, 1: 0.5752667922159448, 2: 0.8422020034923261}"
      ]
     },
     "execution_count": 8,
     "metadata": {},
     "output_type": "execute_result"
    }
   ],
   "source": [
    "# base_model.summary()\n",
    "\n",
    "from sklearn.utils import class_weight\n",
    "import numpy as np\n",
    "import math\n",
    "\n",
    "y_train = train_batches.labels\n",
    "\n",
    "class_weights = class_weight.compute_class_weight('balanced', np.unique(y_train), y_train)\n",
    "\n",
    "class_weight_dict = dict(enumerate(class_weights))\n",
    "class_weight_dict"
   ]
  },
  {
   "cell_type": "code",
   "execution_count": 9,
   "id": "e5bb6def",
   "metadata": {},
   "outputs": [],
   "source": [
    "# v.1\n",
    "# max_poling_2d()\n",
    "# conv2d(256, (1,1))\n",
    "# Normalization\n",
    "# Flatten\n",
    "# Dropout(0.2)\n",
    "# Dense(500)\n",
    "# Dropout(0.2)\n",
    "# Dense(120)\n",
    "# Dropout(0.2)\n",
    "# Dense(3,\"softmax\")\n",
    "# optimizer = keras.optimizers.Adam(learning_rate=0.0005)\n",
    "\n",
    "\n",
    "# v.2\n",
    "# model = Sequential([\n",
    "#    base_model,\n",
    "#    tf.keras.layers.GlobalAveragePooling2D(),\n",
    "#    Dense(3, \"softmax\")\n",
    "#])\n",
    "# optimizer = keras.optimizers.Adam(learning_rate=0.001)\n"
   ]
  },
  {
   "cell_type": "code",
   "execution_count": 10,
   "id": "fbd22829",
   "metadata": {},
   "outputs": [],
   "source": [
    "model = Sequential([\n",
    "    base_model,\n",
    "    tf.keras.layers.GlobalAveragePooling2D(),\n",
    "    Dropout(0.25),\n",
    "    Dense(3, \"softmax\")\n",
    "])"
   ]
  },
  {
   "cell_type": "code",
   "execution_count": 11,
   "id": "57a478de",
   "metadata": {
    "scrolled": true
   },
   "outputs": [
    {
     "name": "stdout",
     "output_type": "stream",
     "text": [
      "Model: \"sequential\"\n",
      "_________________________________________________________________\n",
      "Layer (type)                 Output Shape              Param #   \n",
      "=================================================================\n",
      "inception_resnet_v2 (Functio (None, 5, 5, 1536)        54336736  \n",
      "_________________________________________________________________\n",
      "global_average_pooling2d (Gl (None, 1536)              0         \n",
      "_________________________________________________________________\n",
      "dropout (Dropout)            (None, 1536)              0         \n",
      "_________________________________________________________________\n",
      "dense (Dense)                (None, 3)                 4611      \n",
      "=================================================================\n",
      "Total params: 54,341,347\n",
      "Trainable params: 54,280,803\n",
      "Non-trainable params: 60,544\n",
      "_________________________________________________________________\n"
     ]
    }
   ],
   "source": [
    "model.summary()"
   ]
  },
  {
   "cell_type": "code",
   "execution_count": 12,
   "id": "89a828c5",
   "metadata": {},
   "outputs": [],
   "source": [
    "#optimizer = keras.optimizers.Adam(learning_rate=0.0008\n",
    "optimizer = keras.optimizers.SGD(lr=0.001, decay=1e-3, momentum=0.9, nesterov=True)\n",
    "\n",
    "model.compile(loss='categorical_crossentropy', optimizer=optimizer, metrics=['accuracy'])"
   ]
  },
  {
   "cell_type": "code",
   "execution_count": 13,
   "id": "3ef6424a",
   "metadata": {},
   "outputs": [],
   "source": [
    "callback = keras.callbacks.ModelCheckpoint(\n",
    "                    filepath='./models/model-balance.{epoch:02d}-{val_loss:.2f}-{val_accuracy:.2f}',\n",
    "                    monitor='val_loss', \n",
    "                    verbose=1, \n",
    "                    save_best_only=True,\n",
    "                    mode='auto')"
   ]
  },
  {
   "cell_type": "code",
   "execution_count": 14,
   "id": "3c01284b",
   "metadata": {},
   "outputs": [
    {
     "name": "stdout",
     "output_type": "stream",
     "text": [
      "WARNING:tensorflow:From /home/sovie/anaconda3/lib/python3.8/site-packages/tensorflow/python/ops/array_ops.py:5043: calling gather (from tensorflow.python.ops.array_ops) with validate_indices is deprecated and will be removed in a future version.\n",
      "Instructions for updating:\n",
      "The `validate_indices` argument has no effect. Indices are always validated on CPU and never validated on GPU.\n",
      "Epoch 1/30\n",
      "100/100 [==============================] - 1249s 12s/step - loss: 0.9528 - accuracy: 0.5540 - val_loss: 0.7060 - val_accuracy: 0.7672\n",
      "\n",
      "Epoch 00001: val_loss improved from inf to 0.70603, saving model to ./models/model-balance.01-0.71-0.77\n",
      "INFO:tensorflow:Assets written to: ./models/model-balance.01-0.71-0.77/assets\n",
      "Epoch 2/30\n",
      "100/100 [==============================] - 1235s 12s/step - loss: 0.7279 - accuracy: 0.7030 - val_loss: 0.5093 - val_accuracy: 0.8418\n",
      "\n",
      "Epoch 00002: val_loss improved from 0.70603 to 0.50933, saving model to ./models/model-balance.02-0.51-0.84\n",
      "INFO:tensorflow:Assets written to: ./models/model-balance.02-0.51-0.84/assets\n",
      "Epoch 3/30\n",
      "100/100 [==============================] - 1231s 12s/step - loss: 0.5466 - accuracy: 0.7812 - val_loss: 0.6859 - val_accuracy: 0.7236\n",
      "\n",
      "Epoch 00003: val_loss did not improve from 0.50933\n",
      "Epoch 4/30\n",
      "100/100 [==============================] - 1226s 12s/step - loss: 0.5751 - accuracy: 0.7960 - val_loss: 0.4042 - val_accuracy: 0.8530\n",
      "\n",
      "Epoch 00004: val_loss improved from 0.50933 to 0.40422, saving model to ./models/model-balance.04-0.40-0.85\n",
      "INFO:tensorflow:Assets written to: ./models/model-balance.04-0.40-0.85/assets\n",
      "Epoch 5/30\n",
      "100/100 [==============================] - 1215s 12s/step - loss: 0.4756 - accuracy: 0.8201 - val_loss: 0.6264 - val_accuracy: 0.7233\n",
      "\n",
      "Epoch 00005: val_loss did not improve from 0.40422\n",
      "Epoch 6/30\n",
      "100/100 [==============================] - 1230s 12s/step - loss: 0.3930 - accuracy: 0.8410 - val_loss: 0.3879 - val_accuracy: 0.8566\n",
      "\n",
      "Epoch 00006: val_loss improved from 0.40422 to 0.38794, saving model to ./models/model-balance.06-0.39-0.86\n",
      "INFO:tensorflow:Assets written to: ./models/model-balance.06-0.39-0.86/assets\n",
      "Epoch 7/30\n",
      "100/100 [==============================] - 1225s 12s/step - loss: 0.4154 - accuracy: 0.8390 - val_loss: 0.3131 - val_accuracy: 0.8857\n",
      "\n",
      "Epoch 00007: val_loss improved from 0.38794 to 0.31305, saving model to ./models/model-balance.07-0.31-0.89\n",
      "INFO:tensorflow:Assets written to: ./models/model-balance.07-0.31-0.89/assets\n",
      "Epoch 8/30\n",
      "100/100 [==============================] - 1217s 12s/step - loss: 0.3987 - accuracy: 0.8372 - val_loss: 0.4395 - val_accuracy: 0.8225\n",
      "\n",
      "Epoch 00008: val_loss did not improve from 0.31305\n",
      "Epoch 9/30\n",
      "100/100 [==============================] - 1223s 12s/step - loss: 0.3377 - accuracy: 0.8453 - val_loss: 0.3504 - val_accuracy: 0.8648\n",
      "\n",
      "Epoch 00009: val_loss did not improve from 0.31305\n",
      "Epoch 10/30\n",
      "100/100 [==============================] - 1228s 12s/step - loss: 0.3647 - accuracy: 0.8505 - val_loss: 0.3086 - val_accuracy: 0.8838\n",
      "\n",
      "Epoch 00010: val_loss improved from 0.31305 to 0.30864, saving model to ./models/model-balance.10-0.31-0.88\n",
      "INFO:tensorflow:Assets written to: ./models/model-balance.10-0.31-0.88/assets\n",
      "Epoch 11/30\n",
      "100/100 [==============================] - 1229s 12s/step - loss: 0.3119 - accuracy: 0.8650 - val_loss: 0.7853 - val_accuracy: 0.6516\n",
      "\n",
      "Epoch 00011: val_loss did not improve from 0.30864\n",
      "Epoch 12/30\n",
      "100/100 [==============================] - 1221s 12s/step - loss: 0.3723 - accuracy: 0.8599 - val_loss: 0.3996 - val_accuracy: 0.8523\n",
      "\n",
      "Epoch 00012: val_loss did not improve from 0.30864\n",
      "Epoch 13/30\n",
      "100/100 [==============================] - 1228s 12s/step - loss: 0.4003 - accuracy: 0.8605 - val_loss: 0.5401 - val_accuracy: 0.7741\n",
      "\n",
      "Epoch 00013: val_loss did not improve from 0.30864\n",
      "Epoch 14/30\n",
      "100/100 [==============================] - 1223s 12s/step - loss: 0.2943 - accuracy: 0.8715 - val_loss: 0.2982 - val_accuracy: 0.8913\n",
      "\n",
      "Epoch 00014: val_loss improved from 0.30864 to 0.29825, saving model to ./models/model-balance.14-0.30-0.89\n",
      "INFO:tensorflow:Assets written to: ./models/model-balance.14-0.30-0.89/assets\n",
      "Epoch 15/30\n",
      "100/100 [==============================] - 1226s 12s/step - loss: 0.3477 - accuracy: 0.8520 - val_loss: 0.4797 - val_accuracy: 0.8101\n",
      "\n",
      "Epoch 00015: val_loss did not improve from 0.29825\n",
      "Epoch 16/30\n",
      "100/100 [==============================] - 1229s 12s/step - loss: 0.2967 - accuracy: 0.8845 - val_loss: 0.2829 - val_accuracy: 0.9005\n",
      "\n",
      "Epoch 00016: val_loss improved from 0.29825 to 0.28287, saving model to ./models/model-balance.16-0.28-0.90\n",
      "INFO:tensorflow:Assets written to: ./models/model-balance.16-0.28-0.90/assets\n",
      "Epoch 17/30\n",
      "100/100 [==============================] - 1231s 12s/step - loss: 0.2566 - accuracy: 0.8785 - val_loss: 0.3780 - val_accuracy: 0.8576\n",
      "\n",
      "Epoch 00017: val_loss did not improve from 0.28287\n",
      "Epoch 18/30\n",
      "100/100 [==============================] - 1221s 12s/step - loss: 0.3016 - accuracy: 0.8800 - val_loss: 0.4113 - val_accuracy: 0.8402\n",
      "\n",
      "Epoch 00018: val_loss did not improve from 0.28287\n",
      "Epoch 19/30\n",
      "100/100 [==============================] - 1228s 12s/step - loss: 0.2782 - accuracy: 0.8830 - val_loss: 0.3889 - val_accuracy: 0.8579\n",
      "\n",
      "Epoch 00019: val_loss did not improve from 0.28287\n",
      "Epoch 20/30\n",
      "100/100 [==============================] - 1232s 12s/step - loss: 0.2562 - accuracy: 0.8900 - val_loss: 0.3080 - val_accuracy: 0.8919\n",
      "\n",
      "Epoch 00020: val_loss did not improve from 0.28287\n",
      "Epoch 21/30\n",
      "100/100 [==============================] - 1229s 12s/step - loss: 0.2585 - accuracy: 0.8925 - val_loss: 0.5479 - val_accuracy: 0.7862\n",
      "\n",
      "Epoch 00021: val_loss did not improve from 0.28287\n",
      "Epoch 22/30\n",
      "100/100 [==============================] - 1235s 12s/step - loss: 0.2956 - accuracy: 0.8895 - val_loss: 0.3807 - val_accuracy: 0.8549\n",
      "\n",
      "Epoch 00022: val_loss did not improve from 0.28287\n",
      "Epoch 23/30\n",
      "100/100 [==============================] - 1233s 12s/step - loss: 0.2086 - accuracy: 0.9030 - val_loss: 0.2787 - val_accuracy: 0.9054\n",
      "\n",
      "Epoch 00023: val_loss improved from 0.28287 to 0.27872, saving model to ./models/model-balance.23-0.28-0.91\n",
      "INFO:tensorflow:Assets written to: ./models/model-balance.23-0.28-0.91/assets\n",
      "Epoch 24/30\n",
      "100/100 [==============================] - 1231s 12s/step - loss: 0.2558 - accuracy: 0.8925 - val_loss: 0.3823 - val_accuracy: 0.8579\n",
      "\n",
      "Epoch 00024: val_loss did not improve from 0.27872\n",
      "Epoch 25/30\n",
      "100/100 [==============================] - 1245s 12s/step - loss: 0.3113 - accuracy: 0.8875 - val_loss: 0.7394 - val_accuracy: 0.6994\n",
      "\n",
      "Epoch 00025: val_loss did not improve from 0.27872\n",
      "Epoch 26/30\n",
      "100/100 [==============================] - 1225s 12s/step - loss: 0.2675 - accuracy: 0.8856 - val_loss: 0.3224 - val_accuracy: 0.8808\n",
      "\n",
      "Epoch 00026: val_loss did not improve from 0.27872\n",
      "Epoch 27/30\n",
      "100/100 [==============================] - 1231s 12s/step - loss: 0.2873 - accuracy: 0.8860 - val_loss: 0.2792 - val_accuracy: 0.8955\n",
      "\n",
      "Epoch 00027: val_loss did not improve from 0.27872\n",
      "Epoch 28/30\n",
      "100/100 [==============================] - 1232s 12s/step - loss: 0.2067 - accuracy: 0.9045 - val_loss: 0.3614 - val_accuracy: 0.8638\n",
      "\n",
      "Epoch 00028: val_loss did not improve from 0.27872\n",
      "Epoch 29/30\n",
      "100/100 [==============================] - 1225s 12s/step - loss: 0.2447 - accuracy: 0.9022 - val_loss: 0.4161 - val_accuracy: 0.8379\n",
      "\n",
      "Epoch 00029: val_loss did not improve from 0.27872\n",
      "Epoch 30/30\n",
      "100/100 [==============================] - 1223s 12s/step - loss: 0.2586 - accuracy: 0.8901 - val_loss: 0.3430 - val_accuracy: 0.8713\n",
      "\n",
      "Epoch 00030: val_loss did not improve from 0.27872\n"
     ]
    }
   ],
   "source": [
    "history = model.fit(\n",
    "    train_batches,\n",
    "    validation_data=valid_batches, \n",
    "    epochs = 30, \n",
    "    steps_per_epoch = 100, \n",
    "    verbose = 1,\n",
    "    class_weight=class_weight_dict,\n",
    "    callbacks=[callback])"
   ]
  },
  {
   "cell_type": "code",
   "execution_count": 15,
   "id": "0ff84638",
   "metadata": {},
   "outputs": [],
   "source": [
    "def plot_accuracy(history):\n",
    "  plt.plot(history.history['accuracy'])\n",
    "  plt.plot(history.history['val_accuracy'])\n",
    "  plt.title('model accuracy')\n",
    "  plt.ylabel('accuracy')\n",
    "  plt.xlabel('epoch')\n",
    "  plt.legend(['train', 'test'], loc='upper left')\n",
    "  plt.show()\n",
    "  # summarize history for loss\n",
    "  plt.plot(history.history['loss'])\n",
    "  plt.plot(history.history['val_loss'])\n",
    "  plt.title('model loss')\n",
    "  plt.ylabel('loss')\n",
    "  plt.xlabel('epoch')\n",
    "  plt.legend(['train', 'test'], loc='upper left')\n",
    "  plt.show()"
   ]
  },
  {
   "cell_type": "code",
   "execution_count": 16,
   "id": "f542f978",
   "metadata": {},
   "outputs": [
    {
     "data": {
      "image/png": "[encoded data removed]",
      "text/plain": [
       "<Figure size 432x288 with 1 Axes>"
      ]
     },
     "metadata": {},
     "output_type": "display_data"
    },
    {
     "data": {
      "image/png": "[encoded data removed]",
      "text/plain": [
       "<Figure size 432x288 with 1 Axes>"
      ]
     },
     "metadata": {},
     "output_type": "display_data"
    }
   ],
   "source": [
    "plot_accuracy(history)"
   ]
  },
  {
   "cell_type": "code",
   "execution_count": 17,
   "id": "a2ce9e87",
   "metadata": {},
   "outputs": [
    {
     "name": "stdout",
     "output_type": "stream",
     "text": [
      "153/153 [==============================] - 319s 2s/step - loss: 0.3096 - accuracy: 0.8842\n",
      "Accuracy of model : 88.42 %\n",
      "Loss of model : 0.3096\n"
     ]
    }
   ],
   "source": [
    "testLoss, testAccuracy = model.evaluate(test_batches, verbose = 1)\n",
    "\n",
    "print('Accuracy of model : ' + str(round(testAccuracy,4)*100) + ' %')\n",
    "print('Loss of model : ' + str(round(testLoss,4)))"
   ]
  },
  {
   "cell_type": "code",
   "execution_count": 18,
   "id": "3b6af40c",
   "metadata": {},
   "outputs": [],
   "source": [
    "model.save(\"./models/model-v.2-{}.h5\".format(str(round(testAccuracy,4)*100) + ' %'))"
   ]
  },
  {
   "cell_type": "markdown",
   "id": "3673de2b",
   "metadata": {},
   "source": [
    "### Analizando el modelo"
   ]
  },
  {
   "cell_type": "code",
   "execution_count": 4,
   "id": "1b11920a",
   "metadata": {},
   "outputs": [
    {
     "ename": "ValueError",
     "evalue": "No model found in config file.",
     "output_type": "error",
     "traceback": [
      "\u001b[0;31m---------------------------------------------------------------------------\u001b[0m",
      "\u001b[0;31mValueError\u001b[0m                                Traceback (most recent call last)",
      "\u001b[0;32m<ipython-input-4-b8172b442573>\u001b[0m in \u001b[0;36m<module>\u001b[0;34m\u001b[0m\n\u001b[0;32m----> 1\u001b[0;31m \u001b[0mmodel\u001b[0m \u001b[0;34m=\u001b[0m \u001b[0mload_model\u001b[0m\u001b[0;34m(\u001b[0m\u001b[0;34m\"./models/weights.31-0.23.hdf5\"\u001b[0m\u001b[0;34m)\u001b[0m\u001b[0;34m\u001b[0m\u001b[0;34m\u001b[0m\u001b[0m\n\u001b[0m",
      "\u001b[0;32m~/anaconda3/lib/python3.8/site-packages/tensorflow/python/keras/saving/save.py\u001b[0m in \u001b[0;36mload_model\u001b[0;34m(filepath, custom_objects, compile, options)\u001b[0m\n\u001b[1;32m    199\u001b[0m         if (h5py is not None and\n\u001b[1;32m    200\u001b[0m             (isinstance(filepath, h5py.File) or h5py.is_hdf5(filepath))):\n\u001b[0;32m--> 201\u001b[0;31m           return hdf5_format.load_model_from_hdf5(filepath, custom_objects,\n\u001b[0m\u001b[1;32m    202\u001b[0m                                                   compile)\n\u001b[1;32m    203\u001b[0m \u001b[0;34m\u001b[0m\u001b[0m\n",
      "\u001b[0;32m~/anaconda3/lib/python3.8/site-packages/tensorflow/python/keras/saving/hdf5_format.py\u001b[0m in \u001b[0;36mload_model_from_hdf5\u001b[0;34m(filepath, custom_objects, compile)\u001b[0m\n\u001b[1;32m    174\u001b[0m     \u001b[0mmodel_config\u001b[0m \u001b[0;34m=\u001b[0m \u001b[0mf\u001b[0m\u001b[0;34m.\u001b[0m\u001b[0mattrs\u001b[0m\u001b[0;34m.\u001b[0m\u001b[0mget\u001b[0m\u001b[0;34m(\u001b[0m\u001b[0;34m'model_config'\u001b[0m\u001b[0;34m)\u001b[0m\u001b[0;34m\u001b[0m\u001b[0;34m\u001b[0m\u001b[0m\n\u001b[1;32m    175\u001b[0m     \u001b[0;32mif\u001b[0m \u001b[0mmodel_config\u001b[0m \u001b[0;32mis\u001b[0m \u001b[0;32mNone\u001b[0m\u001b[0;34m:\u001b[0m\u001b[0;34m\u001b[0m\u001b[0;34m\u001b[0m\u001b[0m\n\u001b[0;32m--> 176\u001b[0;31m       \u001b[0;32mraise\u001b[0m \u001b[0mValueError\u001b[0m\u001b[0;34m(\u001b[0m\u001b[0;34m'No model found in config file.'\u001b[0m\u001b[0;34m)\u001b[0m\u001b[0;34m\u001b[0m\u001b[0;34m\u001b[0m\u001b[0m\n\u001b[0m\u001b[1;32m    177\u001b[0m     \u001b[0;32mif\u001b[0m \u001b[0mhasattr\u001b[0m\u001b[0;34m(\u001b[0m\u001b[0mmodel_config\u001b[0m\u001b[0;34m,\u001b[0m \u001b[0;34m'decode'\u001b[0m\u001b[0;34m)\u001b[0m\u001b[0;34m:\u001b[0m\u001b[0;34m\u001b[0m\u001b[0;34m\u001b[0m\u001b[0m\n\u001b[1;32m    178\u001b[0m       \u001b[0mmodel_config\u001b[0m \u001b[0;34m=\u001b[0m \u001b[0mmodel_config\u001b[0m\u001b[0;34m.\u001b[0m\u001b[0mdecode\u001b[0m\u001b[0;34m(\u001b[0m\u001b[0;34m'utf-8'\u001b[0m\u001b[0;34m)\u001b[0m\u001b[0;34m\u001b[0m\u001b[0;34m\u001b[0m\u001b[0m\n",
      "\u001b[0;31mValueError\u001b[0m: No model found in config file."
     ]
    }
   ],
   "source": [
    "model = load_model(\"./models/weights.31-0.23.hdf5\")"
   ]
  },
  {
   "cell_type": "code",
   "execution_count": 11,
   "id": "195639de",
   "metadata": {},
   "outputs": [
    {
     "name": "stdout",
     "output_type": "stream",
     "text": [
      "Model: \"sequential\"\n",
      "_________________________________________________________________\n",
      "Layer (type)                 Output Shape              Param #   \n",
      "=================================================================\n",
      "inception_resnet_v2 (Functio (None, 5, 5, 1536)        54336736  \n",
      "_________________________________________________________________\n",
      "max_pooling2d_4 (MaxPooling2 (None, 2, 2, 1536)        0         \n",
      "_________________________________________________________________\n",
      "conv2d_203 (Conv2D)          (None, 2, 2, 256)         393472    \n",
      "_________________________________________________________________\n",
      "batch_normalization_203 (Bat (None, 2, 2, 256)         1024      \n",
      "_________________________________________________________________\n",
      "flatten (Flatten)            (None, 1024)              0         \n",
      "_________________________________________________________________\n",
      "dense (Dense)                (None, 1000)              1025000   \n",
      "_________________________________________________________________\n",
      "dropout (Dropout)            (None, 1000)              0         \n",
      "_________________________________________________________________\n",
      "dense_1 (Dense)              (None, 500)               500500    \n",
      "_________________________________________________________________\n",
      "dropout_1 (Dropout)          (None, 500)               0         \n",
      "_________________________________________________________________\n",
      "dense_2 (Dense)              (None, 3)                 1503      \n",
      "=================================================================\n",
      "Total params: 56,258,235\n",
      "Trainable params: 56,197,179\n",
      "Non-trainable params: 61,056\n",
      "_________________________________________________________________\n"
     ]
    }
   ],
   "source": [
    "model.summary()"
   ]
  },
  {
   "cell_type": "code",
   "execution_count": 12,
   "id": "32537149",
   "metadata": {},
   "outputs": [
    {
     "name": "stdout",
     "output_type": "stream",
     "text": [
      "152/152 [==============================] - 373s 2s/step - loss: 0.2521 - accuracy: 0.9080\n",
      "Accuracy of model : 90.8 %\n",
      "Loss of model : 0.2521\n"
     ]
    }
   ],
   "source": [
    "testLoss, testAccuracy = model.evaluate(test_batches, verbose = 1)\n",
    "\n",
    "print('Accuracy of model : ' + str(round(testAccuracy,4)*100) + ' %')\n",
    "print('Loss of model : ' + str(round(testLoss,4)))"
   ]
  },
  {
   "cell_type": "code",
   "execution_count": null,
   "id": "1362804d",
   "metadata": {},
   "outputs": [],
   "source": [
    "model = keras.load"
   ]
  }
 ],
 "metadata": {
  "kernelspec": {
   "display_name": "Python 3",
   "language": "python",
   "name": "python3"
  },
  "language_info": {
   "codemirror_mode": {
    "name": "ipython",
    "version": 3
   },
   "file_extension": ".py",
   "mimetype": "text/x-python",
   "name": "python",
   "nbconvert_exporter": "python",
   "pygments_lexer": "ipython3",
   "version": "3.8.8"
  }
 },
 "nbformat": 4,
 "nbformat_minor": 5
}
