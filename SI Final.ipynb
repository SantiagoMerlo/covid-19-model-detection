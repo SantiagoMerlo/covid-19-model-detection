{
 "cells": [
  {
   "cell_type": "markdown",
   "id": "4234471f",
   "metadata": {},
   "source": [
    "# SI"
   ]
  },
  {
   "cell_type": "code",
   "execution_count": 1,
   "id": "4c9f4de7",
   "metadata": {},
   "outputs": [],
   "source": [
    "import pandas as pd\n",
    "import matplotlib.pyplot as plt\n",
    "from tqdm import tqdm\n",
    "import numpy as np\n",
    "import seaborn as sns\n",
    "from matplotlib import style\n",
    "import warnings\n",
    "\n",
    "from PIL import Image, ImageFont, ImageDraw \n",
    "\n",
    "import tensorflow as tf\n",
    "from tensorflow import keras\n",
    "from tensorflow.keras.utils import to_categorical\n",
    "\n",
    "from sklearn.model_selection import train_test_split\n",
    "from sklearn.preprocessing import LabelEncoder\n",
    "\n",
    "import os\n",
    "import cv2"
   ]
  },
  {
   "cell_type": "markdown",
   "id": "38ef0f31",
   "metadata": {},
   "source": [
    "### Global Settings"
   ]
  },
  {
   "cell_type": "code",
   "execution_count": 2,
   "id": "e3546fd1",
   "metadata": {},
   "outputs": [],
   "source": [
    "warnings.filterwarnings(\"ignore\", category=DeprecationWarning)\n",
    "warnings.simplefilter(\"ignore\")\n",
    "style.use(\"ggplot\")\n",
    "SEED = 42\n",
    "TEST_SIZE = 0.2\n",
    "BATCH_SIZE = 500\n",
    "np.random.seed(seed=SEED)"
   ]
  },
  {
   "cell_type": "markdown",
   "id": "f95ad732",
   "metadata": {},
   "source": [
    "## Entendimiento"
   ]
  },
  {
   "cell_type": "code",
   "execution_count": 3,
   "id": "902b2c08",
   "metadata": {},
   "outputs": [],
   "source": [
    "df = pd.read_csv(\"./dataset.csv\") #dataset esta en la misma carpeta que este jupiter"
   ]
  },
  {
   "cell_type": "markdown",
   "id": "ad3c2324",
   "metadata": {},
   "source": [
    "### Preprocesamiento de datos"
   ]
  },
  {
   "cell_type": "code",
   "execution_count": 4,
   "id": "8da87c44",
   "metadata": {},
   "outputs": [],
   "source": [
    "def move_data(df, TRAIN_BATCH = 0.8):\n",
    "    \n",
    "    df_covid = df[df.label == \"COVID-19\"]\n",
    "    df_pneumonia = df[df.label == \"pneumonia\"]\n",
    "    df_normal = df[df.label == \"normal\"]\n",
    "    \n",
    "    msk = np.random.rand(len(df_covid), ) < TRAIN_BATCH\n",
    "    train_covid, test_covid = df_covid[msk], df_covid[~msk]\n",
    "\n",
    "    msk = np.random.rand(len(df_pneumonia)) < TRAIN_BATCH\n",
    "    train_penumonia, test_pneumonia = df_pneumonia[msk], df_pneumonia[~msk]\n",
    "\n",
    "    msk = np.random.rand(len(df_normal)) < TRAIN_BATCH\n",
    "    train_normal, test_normal = df_normal[msk], df_normal[~msk]\n",
    "    \n",
    "    train = pd.concat([train_covid, train_penumonia, train_normal])\n",
    "    test = pd.concat([test_covid, test_pneumonia, test_normal])\n",
    "    \n",
    "    train[\"train\"] = 1\n",
    "    test[\"train\"] = 0\n",
    "    \n",
    "    df = pd.concat([train,test])\n",
    "    \n",
    "    df.to_csv(r'./clean_dataframe.csv', index = False)\n",
    "    \n",
    "    from pathlib import Path\n",
    "\n",
    "    for index, row in train.iterrows():\n",
    "        Path('./data/{}'.format(row[\"filename\"])).rename('./data/train/{}/{}'.format(row[\"label\"],row[\"filename\"]))\n",
    "    for index, row in test.iterrows():\n",
    "        Path('./data/{}'.format(row[\"filename\"])).rename('./data/test/{}/{}'.format(row[\"label\"],row[\"filename\"]))\n",
    "    \n",
    "    return train, test"
   ]
  },
  {
   "cell_type": "markdown",
   "id": "f1b3baf7",
   "metadata": {},
   "source": [
    "### Desarrollando el modelo"
   ]
  },
  {
   "cell_type": "code",
   "execution_count": 5,
   "id": "1f6ed3d7",
   "metadata": {},
   "outputs": [],
   "source": [
    "from tensorflow.keras.models import Sequential, Model\n",
    "from tensorflow.keras.layers import Conv2D, MaxPool2D, InputLayer, MaxPooling2D\n",
    "from tensorflow.keras.layers import Activation, Dropout, BatchNormalization, Flatten, Dense, Reshape\n",
    "from tensorflow.keras.preprocessing.image import ImageDataGenerator\n",
    "from tensorflow.keras.models import load_model\n",
    "from tensorflow.keras.optimizers import Adam"
   ]
  },
  {
   "cell_type": "code",
   "execution_count": 6,
   "id": "fcbf40f7",
   "metadata": {},
   "outputs": [
    {
     "name": "stdout",
     "output_type": "stream",
     "text": [
      "Found 9778 images belonging to 3 classes.\n",
      "Found 3034 images belonging to 3 classes.\n",
      "Found 2463 images belonging to 3 classes.\n"
     ]
    }
   ],
   "source": [
    "train_path = \"./data/train\"\n",
    "test_path = \"./data/test\"\n",
    "valid_path = \"./data/valid\"\n",
    "\n",
    "train_batches = ImageDataGenerator( \n",
    "    rescale=1. / 255,\n",
    "    shear_range=0.2,\n",
    "    zoom_range=0.2,\n",
    "    width_shift_range=0.1,\n",
    "    height_shift_range=0.1,\n",
    "    brightness_range=[0.2,1.0],\n",
    "    horizontal_flip=True\n",
    "    ).flow_from_directory(\n",
    "        directory=train_path, \n",
    "        target_size=(224,224),\n",
    "        batch_size=20)\n",
    "\n",
    "test_batches = ImageDataGenerator( rescale=1./255 ).flow_from_directory(\n",
    "    directory=test_path, \n",
    "    target_size=(224,224),\n",
    "    batch_size=20)\n",
    "\n",
    "valid_batches = ImageDataGenerator( rescale=1./255 ).flow_from_directory(\n",
    "    directory=valid_path, \n",
    "    target_size=(224,224), \n",
    "    batch_size=20)"
   ]
  },
  {
   "cell_type": "code",
   "execution_count": 7,
   "id": "b285d12d",
   "metadata": {},
   "outputs": [],
   "source": [
    "base_model = keras.applications.InceptionResNetV2(\n",
    "    include_top = False,\n",
    "    weights = 'imagenet',\n",
    "    input_shape = (224,224,3),\n",
    "    classifier_activation = 'sigmoid')"
   ]
  },
  {
   "cell_type": "code",
   "execution_count": 8,
   "id": "61972406",
   "metadata": {},
   "outputs": [],
   "source": [
    "#base_model = tf.keras.applications.MobileNetV2(\n",
    "#    include_top = False,\n",
    "#    weights = 'imagenet',\n",
    "#    input_shape = (224,224,3),\n",
    "#    classifier_activation = 'sigmoid')"
   ]
  },
  {
   "cell_type": "code",
   "execution_count": 9,
   "id": "521f7538",
   "metadata": {},
   "outputs": [],
   "source": [
    "# base_model.trainable = False"
   ]
  },
  {
   "cell_type": "code",
   "execution_count": 10,
   "id": "6c83658b",
   "metadata": {},
   "outputs": [],
   "source": [
    "# base_model.summary()"
   ]
  },
  {
   "cell_type": "code",
   "execution_count": 11,
   "id": "e5bb6def",
   "metadata": {},
   "outputs": [],
   "source": [
    "# v.1\n",
    "# max_poling_2d()\n",
    "# conv2d(256, (1,1))\n",
    "# Normalization\n",
    "# Flatten\n",
    "# Dropout(0.2)\n",
    "# Dense(500)\n",
    "# Dropout(0.2)\n",
    "# Dense(120)\n",
    "# Dropout(0.2)\n",
    "# Dense(3,\"softmax\")\n",
    "# optimizer = keras.optimizers.Adam(learning_rate=0.0005)\n",
    "\n",
    "\n",
    "# v.2\n",
    "# model = Sequential([\n",
    "#    base_model,\n",
    "#    tf.keras.layers.GlobalAveragePooling2D(),\n",
    "#    Dense(3, \"softmax\")\n",
    "#])\n",
    "# optimizer = keras.optimizers.Adam(learning_rate=0.001)\n"
   ]
  },
  {
   "cell_type": "code",
   "execution_count": 12,
   "id": "fbd22829",
   "metadata": {},
   "outputs": [],
   "source": [
    "model = Sequential([\n",
    "    base_model,\n",
    "    tf.keras.layers.GlobalAveragePooling2D(),\n",
    "    Dense(3, \"softmax\")\n",
    "])"
   ]
  },
  {
   "cell_type": "code",
   "execution_count": 13,
   "id": "57a478de",
   "metadata": {
    "scrolled": true
   },
   "outputs": [
    {
     "name": "stdout",
     "output_type": "stream",
     "text": [
      "Model: \"sequential\"\n",
      "_________________________________________________________________\n",
      "Layer (type)                 Output Shape              Param #   \n",
      "=================================================================\n",
      "inception_resnet_v2 (Functio (None, 5, 5, 1536)        54336736  \n",
      "_________________________________________________________________\n",
      "global_average_pooling2d (Gl (None, 1536)              0         \n",
      "_________________________________________________________________\n",
      "dense (Dense)                (None, 3)                 4611      \n",
      "=================================================================\n",
      "Total params: 54,341,347\n",
      "Trainable params: 54,280,803\n",
      "Non-trainable params: 60,544\n",
      "_________________________________________________________________\n"
     ]
    }
   ],
   "source": [
    "model.summary()"
   ]
  },
  {
   "cell_type": "code",
   "execution_count": 14,
   "id": "89a828c5",
   "metadata": {},
   "outputs": [],
   "source": [
    "#optimizer = keras.optimizers.Adam(learning_rate=0.0008\n",
    "optimizer = keras.optimizers.SGD(lr=0.001, decay=1e-4, momentum=0.9, nesterov=True)\n",
    "\n",
    "model.compile(loss='categorical_crossentropy', optimizer=optimizer, metrics=['accuracy'])"
   ]
  },
  {
   "cell_type": "code",
   "execution_count": 15,
   "id": "3ef6424a",
   "metadata": {},
   "outputs": [],
   "source": [
    "callback = keras.callbacks.ModelCheckpoint(\n",
    "                    filepath='./models/model.{epoch:02d}-{val_loss:.2f}-{val_accuracy:.2f}',\n",
    "                    monitor='val_loss', \n",
    "                    verbose=1, \n",
    "                    save_best_only=True,\n",
    "                    mode='auto')"
   ]
  },
  {
   "cell_type": "code",
   "execution_count": 16,
   "id": "3c01284b",
   "metadata": {},
   "outputs": [
    {
     "name": "stdout",
     "output_type": "stream",
     "text": [
      "Epoch 1/30\n",
      "100/100 [==============================] - 1167s 12s/step - loss: 0.5842 - accuracy: 0.7578 - val_loss: 0.8491 - val_accuracy: 0.7670\n",
      "\n",
      "Epoch 00001: val_loss improved from inf to 0.84908, saving model to ./models/model.01-0.85-0.77\n",
      "INFO:tensorflow:Assets written to: ./models/model.01-0.85-0.77/assets\n",
      "Epoch 2/30\n",
      "100/100 [==============================] - 1150s 12s/step - loss: 0.3672 - accuracy: 0.8685 - val_loss: 0.4207 - val_accuracy: 0.8685\n",
      "\n",
      "Epoch 00002: val_loss improved from 0.84908 to 0.42070, saving model to ./models/model.02-0.42-0.87\n",
      "INFO:tensorflow:Assets written to: ./models/model.02-0.42-0.87/assets\n",
      "Epoch 3/30\n",
      "100/100 [==============================] - 1150s 12s/step - loss: 0.3422 - accuracy: 0.8790 - val_loss: 0.3615 - val_accuracy: 0.8790\n",
      "\n",
      "Epoch 00003: val_loss improved from 0.42070 to 0.36155, saving model to ./models/model.03-0.36-0.88\n",
      "INFO:tensorflow:Assets written to: ./models/model.03-0.36-0.88/assets\n",
      "Epoch 4/30\n",
      "100/100 [==============================] - 1146s 11s/step - loss: 0.3252 - accuracy: 0.8795 - val_loss: 0.3120 - val_accuracy: 0.8904\n",
      "\n",
      "Epoch 00004: val_loss improved from 0.36155 to 0.31199, saving model to ./models/model.04-0.31-0.89\n",
      "INFO:tensorflow:Assets written to: ./models/model.04-0.31-0.89/assets\n",
      "Epoch 5/30\n",
      "100/100 [==============================] - 1142s 11s/step - loss: 0.2902 - accuracy: 0.8960 - val_loss: 0.2942 - val_accuracy: 0.8916\n",
      "\n",
      "Epoch 00005: val_loss improved from 0.31199 to 0.29422, saving model to ./models/model.05-0.29-0.89\n",
      "INFO:tensorflow:Assets written to: ./models/model.05-0.29-0.89/assets\n",
      "Epoch 6/30\n",
      "100/100 [==============================] - 1144s 11s/step - loss: 0.2871 - accuracy: 0.8995 - val_loss: 0.2897 - val_accuracy: 0.8977\n",
      "\n",
      "Epoch 00006: val_loss improved from 0.29422 to 0.28969, saving model to ./models/model.06-0.29-0.90\n",
      "INFO:tensorflow:Assets written to: ./models/model.06-0.29-0.90/assets\n",
      "Epoch 7/30\n",
      "100/100 [==============================] - 1140s 11s/step - loss: 0.2965 - accuracy: 0.8934 - val_loss: 0.2905 - val_accuracy: 0.8989\n",
      "\n",
      "Epoch 00007: val_loss did not improve from 0.28969\n",
      "Epoch 8/30\n",
      "100/100 [==============================] - 1142s 11s/step - loss: 0.2708 - accuracy: 0.9025 - val_loss: 0.3497 - val_accuracy: 0.8831\n",
      "\n",
      "Epoch 00008: val_loss did not improve from 0.28969\n",
      "Epoch 9/30\n",
      "100/100 [==============================] - 1143s 11s/step - loss: 0.2607 - accuracy: 0.9050 - val_loss: 0.2824 - val_accuracy: 0.9046\n",
      "\n",
      "Epoch 00009: val_loss improved from 0.28969 to 0.28239, saving model to ./models/model.09-0.28-0.90\n",
      "INFO:tensorflow:Assets written to: ./models/model.09-0.28-0.90/assets\n",
      "Epoch 10/30\n",
      "100/100 [==============================] - 1137s 11s/step - loss: 0.2581 - accuracy: 0.9100 - val_loss: 0.2666 - val_accuracy: 0.9103\n",
      "\n",
      "Epoch 00010: val_loss improved from 0.28239 to 0.26658, saving model to ./models/model.10-0.27-0.91\n",
      "INFO:tensorflow:Assets written to: ./models/model.10-0.27-0.91/assets\n",
      "Epoch 11/30\n",
      "100/100 [==============================] - 1138s 11s/step - loss: 0.2727 - accuracy: 0.9044 - val_loss: 0.3314 - val_accuracy: 0.8883\n",
      "\n",
      "Epoch 00011: val_loss did not improve from 0.26658\n",
      "Epoch 12/30\n",
      "100/100 [==============================] - 1138s 11s/step - loss: 0.2359 - accuracy: 0.9184 - val_loss: 0.3048 - val_accuracy: 0.8985\n",
      "\n",
      "Epoch 00012: val_loss did not improve from 0.26658\n",
      "Epoch 13/30\n",
      "100/100 [==============================] - 1139s 11s/step - loss: 0.2449 - accuracy: 0.9154 - val_loss: 0.2792 - val_accuracy: 0.9017\n",
      "\n",
      "Epoch 00013: val_loss did not improve from 0.26658\n",
      "Epoch 14/30\n",
      "100/100 [==============================] - 1140s 11s/step - loss: 0.2454 - accuracy: 0.9114 - val_loss: 0.2649 - val_accuracy: 0.9103\n",
      "\n",
      "Epoch 00014: val_loss improved from 0.26658 to 0.26494, saving model to ./models/model.14-0.26-0.91\n",
      "INFO:tensorflow:Assets written to: ./models/model.14-0.26-0.91/assets\n",
      "Epoch 15/30\n",
      "100/100 [==============================] - 1136s 11s/step - loss: 0.2309 - accuracy: 0.9185 - val_loss: 0.2524 - val_accuracy: 0.9103\n",
      "\n",
      "Epoch 00015: val_loss improved from 0.26494 to 0.25237, saving model to ./models/model.15-0.25-0.91\n",
      "INFO:tensorflow:Assets written to: ./models/model.15-0.25-0.91/assets\n",
      "Epoch 16/30\n",
      "100/100 [==============================] - 1136s 11s/step - loss: 0.2266 - accuracy: 0.9155 - val_loss: 0.2797 - val_accuracy: 0.9058\n",
      "\n",
      "Epoch 00016: val_loss did not improve from 0.25237\n",
      "Epoch 17/30\n",
      "100/100 [==============================] - 1135s 11s/step - loss: 0.2076 - accuracy: 0.9185 - val_loss: 0.2566 - val_accuracy: 0.9143\n",
      "\n",
      "Epoch 00017: val_loss did not improve from 0.25237\n",
      "Epoch 18/30\n",
      "100/100 [==============================] - 1138s 11s/step - loss: 0.1896 - accuracy: 0.9345 - val_loss: 0.2509 - val_accuracy: 0.9123\n",
      "\n",
      "Epoch 00018: val_loss improved from 0.25237 to 0.25094, saving model to ./models/model.18-0.25-0.91\n",
      "INFO:tensorflow:Assets written to: ./models/model.18-0.25-0.91/assets\n",
      "Epoch 19/30\n",
      "100/100 [==============================] - 1138s 11s/step - loss: 0.2099 - accuracy: 0.9289 - val_loss: 0.2369 - val_accuracy: 0.9184\n",
      "\n",
      "Epoch 00019: val_loss improved from 0.25094 to 0.23693, saving model to ./models/model.19-0.24-0.92\n",
      "INFO:tensorflow:Assets written to: ./models/model.19-0.24-0.92/assets\n",
      "Epoch 20/30\n",
      "100/100 [==============================] - 1137s 11s/step - loss: 0.1991 - accuracy: 0.9245 - val_loss: 0.2371 - val_accuracy: 0.9192\n",
      "\n",
      "Epoch 00020: val_loss did not improve from 0.23693\n",
      "Epoch 21/30\n",
      "100/100 [==============================] - 1138s 11s/step - loss: 0.2098 - accuracy: 0.9275 - val_loss: 0.2259 - val_accuracy: 0.9229\n",
      "\n",
      "Epoch 00021: val_loss improved from 0.23693 to 0.22586, saving model to ./models/model.21-0.23-0.92\n",
      "INFO:tensorflow:Assets written to: ./models/model.21-0.23-0.92/assets\n",
      "Epoch 22/30\n",
      "100/100 [==============================] - 1137s 11s/step - loss: 0.1976 - accuracy: 0.9320 - val_loss: 0.2479 - val_accuracy: 0.9107\n",
      "\n",
      "Epoch 00022: val_loss did not improve from 0.22586\n",
      "Epoch 23/30\n",
      "100/100 [==============================] - 1154s 12s/step - loss: 0.2080 - accuracy: 0.9275 - val_loss: 0.2928 - val_accuracy: 0.9005\n",
      "\n",
      "Epoch 00023: val_loss did not improve from 0.22586\n",
      "Epoch 24/30\n",
      "100/100 [==============================] - 1137s 11s/step - loss: 0.1833 - accuracy: 0.9320 - val_loss: 0.2919 - val_accuracy: 0.9005\n",
      "\n",
      "Epoch 00024: val_loss did not improve from 0.22586\n",
      "Epoch 25/30\n",
      "100/100 [==============================] - 1141s 11s/step - loss: 0.1931 - accuracy: 0.9340 - val_loss: 0.2535 - val_accuracy: 0.9147\n",
      "\n",
      "Epoch 00025: val_loss did not improve from 0.22586\n",
      "Epoch 26/30\n",
      "100/100 [==============================] - 1136s 11s/step - loss: 0.1766 - accuracy: 0.9409 - val_loss: 0.2227 - val_accuracy: 0.9265\n",
      "\n",
      "Epoch 00026: val_loss improved from 0.22586 to 0.22270, saving model to ./models/model.26-0.22-0.93\n",
      "INFO:tensorflow:Assets written to: ./models/model.26-0.22-0.93/assets\n",
      "Epoch 27/30\n",
      "100/100 [==============================] - 1146s 11s/step - loss: 0.1865 - accuracy: 0.9390 - val_loss: 0.2175 - val_accuracy: 0.9237\n",
      "\n",
      "Epoch 00027: val_loss improved from 0.22270 to 0.21754, saving model to ./models/model.27-0.22-0.92\n",
      "INFO:tensorflow:Assets written to: ./models/model.27-0.22-0.92/assets\n",
      "Epoch 28/30\n",
      "100/100 [==============================] - 1141s 11s/step - loss: 0.1852 - accuracy: 0.9330 - val_loss: 0.2215 - val_accuracy: 0.9241\n",
      "\n",
      "Epoch 00028: val_loss did not improve from 0.21754\n",
      "Epoch 29/30\n",
      "100/100 [==============================] - 1138s 11s/step - loss: 0.1741 - accuracy: 0.9384 - val_loss: 0.2168 - val_accuracy: 0.9285\n",
      "\n",
      "Epoch 00029: val_loss improved from 0.21754 to 0.21681, saving model to ./models/model.29-0.22-0.93\n",
      "INFO:tensorflow:Assets written to: ./models/model.29-0.22-0.93/assets\n",
      "Epoch 30/30\n",
      "100/100 [==============================] - 1137s 11s/step - loss: 0.1686 - accuracy: 0.9410 - val_loss: 0.2346 - val_accuracy: 0.9172\n",
      "\n",
      "Epoch 00030: val_loss did not improve from 0.21681\n"
     ]
    }
   ],
   "source": [
    "history = model.fit_generator(\n",
    "    train_batches,\n",
    "    validation_data=valid_batches, \n",
    "    epochs = 30, \n",
    "    steps_per_epoch = 100, \n",
    "    verbose = 1,\n",
    "    callbacks=[callback])"
   ]
  },
  {
   "cell_type": "code",
   "execution_count": 17,
   "id": "0ff84638",
   "metadata": {},
   "outputs": [],
   "source": [
    "def plot_accuracy(history):\n",
    "  plt.plot(history.history['accuracy'])\n",
    "  plt.plot(history.history['val_accuracy'])\n",
    "  plt.title('model accuracy')\n",
    "  plt.ylabel('accuracy')\n",
    "  plt.xlabel('epoch')\n",
    "  plt.legend(['train', 'test'], loc='upper left')\n",
    "  plt.show()\n",
    "  # summarize history for loss\n",
    "  plt.plot(history.history['loss'])\n",
    "  plt.plot(history.history['val_loss'])\n",
    "  plt.title('model loss')\n",
    "  plt.ylabel('loss')\n",
    "  plt.xlabel('epoch')\n",
    "  plt.legend(['train', 'test'], loc='upper left')\n",
    "  plt.show()"
   ]
  },
  {
   "cell_type": "code",
   "execution_count": 18,
   "id": "f542f978",
   "metadata": {},
   "outputs": [
    {
     "data": {
      "image/png": "[encoded data removed]",
      "text/plain": [
       "<Figure size 432x288 with 1 Axes>"
      ]
     },
     "metadata": {},
     "output_type": "display_data"
    },
    {
     "data": {
      "image/png": "[encoded data removed]",
      "text/plain": [
       "<Figure size 432x288 with 1 Axes>"
      ]
     },
     "metadata": {},
     "output_type": "display_data"
    }
   ],
   "source": [
    "plot_accuracy(history)"
   ]
  },
  {
   "cell_type": "code",
   "execution_count": 18,
   "id": "a2ce9e87",
   "metadata": {},
   "outputs": [
    {
     "name": "stdout",
     "output_type": "stream",
     "text": [
      "152/152 [==============================] - 316s 2s/step - loss: 0.2954 - accuracy: 0.8922\n",
      "Accuracy of model : 89.22 %\n",
      "Loss of model : 0.2954\n"
     ]
    }
   ],
   "source": [
    "testLoss, testAccuracy = model.evaluate(test_batches, verbose = 1)\n",
    "\n",
    "print('Accuracy of model : ' + str(round(testAccuracy,4)*100) + ' %')\n",
    "print('Loss of model : ' + str(round(testLoss,4)))"
   ]
  },
  {
   "cell_type": "code",
   "execution_count": 31,
   "id": "3b6af40c",
   "metadata": {},
   "outputs": [],
   "source": [
    "model.save(\"./models/model-v.2-{}.h5\".format(str(round(testAccuracy,4)*100) + ' %'))"
   ]
  },
  {
   "cell_type": "markdown",
   "id": "3673de2b",
   "metadata": {},
   "source": [
    "### Analizando el modelo"
   ]
  },
  {
   "cell_type": "code",
   "execution_count": 4,
   "id": "1b11920a",
   "metadata": {},
   "outputs": [
    {
     "ename": "ValueError",
     "evalue": "No model found in config file.",
     "output_type": "error",
     "traceback": [
      "\u001b[0;31m---------------------------------------------------------------------------\u001b[0m",
      "\u001b[0;31mValueError\u001b[0m                                Traceback (most recent call last)",
      "\u001b[0;32m<ipython-input-4-b8172b442573>\u001b[0m in \u001b[0;36m<module>\u001b[0;34m\u001b[0m\n\u001b[0;32m----> 1\u001b[0;31m \u001b[0mmodel\u001b[0m \u001b[0;34m=\u001b[0m \u001b[0mload_model\u001b[0m\u001b[0;34m(\u001b[0m\u001b[0;34m\"./models/weights.31-0.23.hdf5\"\u001b[0m\u001b[0;34m)\u001b[0m\u001b[0;34m\u001b[0m\u001b[0;34m\u001b[0m\u001b[0m\n\u001b[0m",
      "\u001b[0;32m~/anaconda3/lib/python3.8/site-packages/tensorflow/python/keras/saving/save.py\u001b[0m in \u001b[0;36mload_model\u001b[0;34m(filepath, custom_objects, compile, options)\u001b[0m\n\u001b[1;32m    199\u001b[0m         if (h5py is not None and\n\u001b[1;32m    200\u001b[0m             (isinstance(filepath, h5py.File) or h5py.is_hdf5(filepath))):\n\u001b[0;32m--> 201\u001b[0;31m           return hdf5_format.load_model_from_hdf5(filepath, custom_objects,\n\u001b[0m\u001b[1;32m    202\u001b[0m                                                   compile)\n\u001b[1;32m    203\u001b[0m \u001b[0;34m\u001b[0m\u001b[0m\n",
      "\u001b[0;32m~/anaconda3/lib/python3.8/site-packages/tensorflow/python/keras/saving/hdf5_format.py\u001b[0m in \u001b[0;36mload_model_from_hdf5\u001b[0;34m(filepath, custom_objects, compile)\u001b[0m\n\u001b[1;32m    174\u001b[0m     \u001b[0mmodel_config\u001b[0m \u001b[0;34m=\u001b[0m \u001b[0mf\u001b[0m\u001b[0;34m.\u001b[0m\u001b[0mattrs\u001b[0m\u001b[0;34m.\u001b[0m\u001b[0mget\u001b[0m\u001b[0;34m(\u001b[0m\u001b[0;34m'model_config'\u001b[0m\u001b[0;34m)\u001b[0m\u001b[0;34m\u001b[0m\u001b[0;34m\u001b[0m\u001b[0m\n\u001b[1;32m    175\u001b[0m     \u001b[0;32mif\u001b[0m \u001b[0mmodel_config\u001b[0m \u001b[0;32mis\u001b[0m \u001b[0;32mNone\u001b[0m\u001b[0;34m:\u001b[0m\u001b[0;34m\u001b[0m\u001b[0;34m\u001b[0m\u001b[0m\n\u001b[0;32m--> 176\u001b[0;31m       \u001b[0;32mraise\u001b[0m \u001b[0mValueError\u001b[0m\u001b[0;34m(\u001b[0m\u001b[0;34m'No model found in config file.'\u001b[0m\u001b[0;34m)\u001b[0m\u001b[0;34m\u001b[0m\u001b[0;34m\u001b[0m\u001b[0m\n\u001b[0m\u001b[1;32m    177\u001b[0m     \u001b[0;32mif\u001b[0m \u001b[0mhasattr\u001b[0m\u001b[0;34m(\u001b[0m\u001b[0mmodel_config\u001b[0m\u001b[0;34m,\u001b[0m \u001b[0;34m'decode'\u001b[0m\u001b[0;34m)\u001b[0m\u001b[0;34m:\u001b[0m\u001b[0;34m\u001b[0m\u001b[0;34m\u001b[0m\u001b[0m\n\u001b[1;32m    178\u001b[0m       \u001b[0mmodel_config\u001b[0m \u001b[0;34m=\u001b[0m \u001b[0mmodel_config\u001b[0m\u001b[0;34m.\u001b[0m\u001b[0mdecode\u001b[0m\u001b[0;34m(\u001b[0m\u001b[0;34m'utf-8'\u001b[0m\u001b[0;34m)\u001b[0m\u001b[0;34m\u001b[0m\u001b[0;34m\u001b[0m\u001b[0m\n",
      "\u001b[0;31mValueError\u001b[0m: No model found in config file."
     ]
    }
   ],
   "source": [
    "model = load_model(\"./models/weights.31-0.23.hdf5\")"
   ]
  },
  {
   "cell_type": "code",
   "execution_count": 11,
   "id": "195639de",
   "metadata": {},
   "outputs": [
    {
     "name": "stdout",
     "output_type": "stream",
     "text": [
      "Model: \"sequential\"\n",
      "_________________________________________________________________\n",
      "Layer (type)                 Output Shape              Param #   \n",
      "=================================================================\n",
      "inception_resnet_v2 (Functio (None, 5, 5, 1536)        54336736  \n",
      "_________________________________________________________________\n",
      "max_pooling2d_4 (MaxPooling2 (None, 2, 2, 1536)        0         \n",
      "_________________________________________________________________\n",
      "conv2d_203 (Conv2D)          (None, 2, 2, 256)         393472    \n",
      "_________________________________________________________________\n",
      "batch_normalization_203 (Bat (None, 2, 2, 256)         1024      \n",
      "_________________________________________________________________\n",
      "flatten (Flatten)            (None, 1024)              0         \n",
      "_________________________________________________________________\n",
      "dense (Dense)                (None, 1000)              1025000   \n",
      "_________________________________________________________________\n",
      "dropout (Dropout)            (None, 1000)              0         \n",
      "_________________________________________________________________\n",
      "dense_1 (Dense)              (None, 500)               500500    \n",
      "_________________________________________________________________\n",
      "dropout_1 (Dropout)          (None, 500)               0         \n",
      "_________________________________________________________________\n",
      "dense_2 (Dense)              (None, 3)                 1503      \n",
      "=================================================================\n",
      "Total params: 56,258,235\n",
      "Trainable params: 56,197,179\n",
      "Non-trainable params: 61,056\n",
      "_________________________________________________________________\n"
     ]
    }
   ],
   "source": [
    "model.summary()"
   ]
  },
  {
   "cell_type": "code",
   "execution_count": 12,
   "id": "32537149",
   "metadata": {},
   "outputs": [
    {
     "name": "stdout",
     "output_type": "stream",
     "text": [
      "152/152 [==============================] - 373s 2s/step - loss: 0.2521 - accuracy: 0.9080\n",
      "Accuracy of model : 90.8 %\n",
      "Loss of model : 0.2521\n"
     ]
    }
   ],
   "source": [
    "testLoss, testAccuracy = model.evaluate(test_batches, verbose = 1)\n",
    "\n",
    "print('Accuracy of model : ' + str(round(testAccuracy,4)*100) + ' %')\n",
    "print('Loss of model : ' + str(round(testLoss,4)))"
   ]
  },
  {
   "cell_type": "code",
   "execution_count": null,
   "id": "1362804d",
   "metadata": {},
   "outputs": [],
   "source": [
    "model = keras.load"
   ]
  }
 ],
 "metadata": {
  "kernelspec": {
   "display_name": "Python 3",
   "language": "python",
   "name": "python3"
  },
  "language_info": {
   "codemirror_mode": {
    "name": "ipython",
    "version": 3
   },
   "file_extension": ".py",
   "mimetype": "text/x-python",
   "name": "python",
   "nbconvert_exporter": "python",
   "pygments_lexer": "ipython3",
   "version": "3.8.8"
  }
 },
 "nbformat": 4,
 "nbformat_minor": 5
}
